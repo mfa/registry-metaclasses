{
 "cells": [
  {
   "cell_type": "markdown",
   "metadata": {
    "slideshow": {
     "slide_type": "slide"
    }
   },
   "source": [
    "# Implementing registries using Metaclasses\n",
    "\n",
    "Andreas Madsack (AX Semantics)"
   ]
  },
  {
   "cell_type": "markdown",
   "metadata": {
    "slideshow": {
     "slide_type": "slide"
    }
   },
   "source": [
    "## TOC:\n",
    "\n",
    "- Problem description\n",
    "- Two solutions: decorators and metaclasses\n",
    "- Demo"
   ]
  },
  {
   "cell_type": "markdown",
   "metadata": {
    "slideshow": {
     "slide_type": "slide"
    }
   },
   "source": [
    "## Problem\n",
    "\n",
    "For example, we have an implementation for a surface realizer in **a few** languages.  \n",
    "All of them have the **same interfaces**.  \n",
    "We don't want to load them via imports, but get them from a **registry**:"
   ]
  },
  {
   "cell_type": "code",
   "execution_count": 1,
   "metadata": {
    "slideshow": {
     "slide_type": "skip"
    }
   },
   "outputs": [],
   "source": [
    "# this is a mock for the next command to not throw an error. the real registry follows later\n",
    "class Registry:\n",
    "    @classmethod\n",
    "    def get_language_instance(cls, language):\n",
    "        return"
   ]
  },
  {
   "cell_type": "code",
   "execution_count": 2,
   "metadata": {
    "slideshow": {
     "slide_type": "-"
    }
   },
   "outputs": [],
   "source": [
    "german = Registry.get_language_instance(\"de-DE\")"
   ]
  },
  {
   "cell_type": "markdown",
   "metadata": {
    "slideshow": {
     "slide_type": "slide"
    }
   },
   "source": [
    "## Solution - Decorators\n",
    "\n",
    "Used for example in **AllenNLP** or **Thinc** to register a part of a neural network.  \n",
    "Or **Flask** to register url routes.  \n",
    "Could look like:"
   ]
  },
  {
   "cell_type": "code",
   "execution_count": 3,
   "metadata": {
    "slideshow": {
     "slide_type": "skip"
    }
   },
   "outputs": [],
   "source": [
    "# not shown in talk; identical slide later in talk\n",
    "import functools\n",
    "registry = {}\n",
    "\n",
    "def registry_decorator(language):\n",
    "    def registry_func(func):\n",
    "        @functools.wraps(func)\n",
    "        def wrapper():\n",
    "            registry[language] = func\n",
    "        return wrapper()\n",
    "    return registry_func"
   ]
  },
  {
   "cell_type": "code",
   "execution_count": 4,
   "metadata": {
    "slideshow": {
     "slide_type": "fragment"
    }
   },
   "outputs": [],
   "source": [
    "@registry_decorator(\"de-DE\")\n",
    "class VerbRenderer_DE_DE():\n",
    "    def render(self, lemma):\n",
    "        return f\"rendered: {lemma}\""
   ]
  },
  {
   "cell_type": "code",
   "execution_count": 5,
   "metadata": {
    "slideshow": {
     "slide_type": "fragment"
    }
   },
   "outputs": [],
   "source": [
    "german = registry.get(\"de-DE\")()"
   ]
  },
  {
   "cell_type": "code",
   "execution_count": 6,
   "metadata": {
    "slideshow": {
     "slide_type": "fragment"
    }
   },
   "outputs": [
    {
     "data": {
      "text/plain": [
       "'rendered: foo'"
      ]
     },
     "execution_count": 6,
     "metadata": {},
     "output_type": "execute_result"
    }
   ],
   "source": [
    "german.render(\"foo\")"
   ]
  },
  {
   "cell_type": "markdown",
   "metadata": {
    "slideshow": {
     "slide_type": "slide"
    }
   },
   "source": [
    "### Show me the code"
   ]
  },
  {
   "cell_type": "code",
   "execution_count": 7,
   "metadata": {},
   "outputs": [],
   "source": [
    "registry = {}\n",
    "\n",
    "def registry_decorator(language):\n",
    "    def registry_func(func):\n",
    "        @functools.wraps(func)\n",
    "        def wrapper():\n",
    "            registry[language] = func\n",
    "        return wrapper()\n",
    "    return registry_func"
   ]
  },
  {
   "cell_type": "code",
   "execution_count": 8,
   "metadata": {},
   "outputs": [],
   "source": [
    "@registry_decorator(\"de-DE\")\n",
    "class VerbRenderer_DE_DE():\n",
    "    def render(self, lemma):\n",
    "        return f\"rendered: {lemma}\""
   ]
  },
  {
   "cell_type": "markdown",
   "metadata": {
    "slideshow": {
     "slide_type": "slide"
    }
   },
   "source": [
    "## Solution - Metaclasses\n",
    "\n",
    "This solution is not per se better than decorators.  \n",
    "It just fitted our needs better.  \n",
    "\n",
    "Example:"
   ]
  },
  {
   "cell_type": "code",
   "execution_count": 9,
   "metadata": {
    "slideshow": {
     "slide_type": "skip"
    }
   },
   "outputs": [],
   "source": [
    "# again a slide that is not shown in the talk to sweeten the code\n",
    "from abc import ABCMeta\n",
    "class RegisterMetaClass(ABCMeta):\n",
    "    def __new__(cls, class_name, bases, namespace, language):\n",
    "        new = super().__new__(cls, class_name, bases, namespace)\n",
    "        return new\n",
    "\n",
    "class VerbRendererBase(metaclass=RegisterMetaClass, language=None):\n",
    "    pass"
   ]
  },
  {
   "cell_type": "code",
   "execution_count": 10,
   "metadata": {
    "slideshow": {
     "slide_type": "fragment"
    }
   },
   "outputs": [],
   "source": [
    "class VerbRenderer_DE_DE(VerbRendererBase, language=\"de-DE\"):\n",
    "    def render(self, lemma):\n",
    "        return f\"rendered: {lemma}\""
   ]
  },
  {
   "cell_type": "markdown",
   "metadata": {
    "slideshow": {
     "slide_type": "slide"
    }
   },
   "source": [
    "### First a few words about metaclasses\n",
    "\n",
    "Metaclasses allow to change class instance creation. Creation is happening at import time."
   ]
  },
  {
   "cell_type": "markdown",
   "metadata": {},
   "source": [
    "<img width=\"25%\" src=\"https://blog.ionelmc.ro/2015/02/09/understanding-python-metaclasses/instance-creation.png\">\n",
    "\n",
    "src: https://blog.ionelmc.ro/2015/02/09/understanding-python-metaclasses/"
   ]
  },
  {
   "cell_type": "markdown",
   "metadata": {
    "slideshow": {
     "slide_type": "slide"
    }
   },
   "source": [
    "### Show me the code"
   ]
  },
  {
   "cell_type": "code",
   "execution_count": 11,
   "metadata": {},
   "outputs": [],
   "source": [
    "class RegisterMetaClass(ABCMeta):\n",
    "    def __new__(cls, class_name, bases, namespace, language):\n",
    "        # insert variables into class namespace\n",
    "        namespace[\"language\"] = language\n",
    "        namespace[\"lang_code\"] = language.split(\"-\")[0].lower() if language else None\n",
    "\n",
    "        new = super().__new__(cls, class_name, bases, namespace)\n",
    "        if not language:\n",
    "            return new\n",
    "\n",
    "        registry[language] = new\n",
    "        return new\n",
    "\n",
    "class VerbRendererBase(metaclass=RegisterMetaClass, language=None):\n",
    "    # this class is not in the registry, because language is not set!\n",
    "    pass"
   ]
  },
  {
   "cell_type": "markdown",
   "metadata": {
    "slideshow": {
     "slide_type": "slide"
    }
   },
   "source": [
    "### Differences between 2 solutions?\n",
    "\n",
    "- decorators seem like less magic for the user\n",
    "- if you already use a baseclass, this baseclass can do the metaclass thingy\n"
   ]
  },
  {
   "cell_type": "markdown",
   "metadata": {
    "slideshow": {
     "slide_type": "slide"
    }
   },
   "source": [
    "## Registry\n",
    "\n",
    "Both solutions need to be imported. Our solution:"
   ]
  },
  {
   "cell_type": "code",
   "execution_count": 12,
   "metadata": {
    "slideshow": {
     "slide_type": "fragment"
    }
   },
   "outputs": [],
   "source": [
    "registry = {}\n",
    "\n",
    "class Registry:\n",
    "    @classmethod\n",
    "    def get_language_class(cls, name):\n",
    "        if not registry:\n",
    "            cls.load_modules()\n",
    "        return registry[name]\n",
    "\n",
    "    @classmethod\n",
    "    def get_language_instance(cls, name):\n",
    "        return cls.get_language_class(name)()\n",
    "\n",
    "    @staticmethod\n",
    "    def load_modules():\n",
    "        root = Path(__file__).resolve().parent\n",
    "\n",
    "        for module in root.glob(\"languages/*/*.py\"):\n",
    "            module = str(module)\n",
    "            if not module.lower().endswith(\"__init__.py\"):\n",
    "                module = module[module.index(\"example/languages\") : -len(\".py\")].replace(\n",
    "                    \"/\", \".\"\n",
    "                )\n",
    "                import_module(module)"
   ]
  },
  {
   "cell_type": "markdown",
   "metadata": {
    "slideshow": {
     "slide_type": "slide"
    }
   },
   "source": [
    "### Live demo"
   ]
  },
  {
   "cell_type": "code",
   "execution_count": 13,
   "metadata": {
    "slideshow": {
     "slide_type": "fragment"
    }
   },
   "outputs": [
    {
     "name": "stdout",
     "output_type": "stream",
     "text": [
      "total 28\r\n",
      "drwxr-xr-x 4 mfa users  4096 Mar 26 11:13 example\r\n",
      "-rw-r--r-- 1 mfa users 12636 Mar 25 20:46 Implementing-registries-using-Metaclasses.ipynb\r\n",
      "-rw-r--r-- 1 mfa users   612 Mar 26 11:15 README.md\r\n",
      "drwxr-xr-x 3 mfa users  4096 Mar 26 11:13 tests\r\n"
     ]
    }
   ],
   "source": [
    "!ls -l"
   ]
  },
  {
   "cell_type": "code",
   "execution_count": 14,
   "metadata": {
    "slideshow": {
     "slide_type": "fragment"
    }
   },
   "outputs": [
    {
     "name": "stdout",
     "output_type": "stream",
     "text": [
      "total 12\r\n",
      "-rw-r--r-- 1 mfa users    0 Feb 17 17:49 __init__.py\r\n",
      "drwxr-xr-x 5 mfa users 4096 Mar 22 19:38 languages\r\n",
      "drwxr-xr-x 2 mfa users 4096 Mar 26 11:13 __pycache__\r\n",
      "-rw-r--r-- 1 mfa users 1668 Mar 26 11:13 registry.py\r\n"
     ]
    }
   ],
   "source": [
    "!ls -l example"
   ]
  },
  {
   "cell_type": "code",
   "execution_count": 15,
   "metadata": {
    "slideshow": {
     "slide_type": "slide"
    }
   },
   "outputs": [],
   "source": [
    "from example.registry import Registry"
   ]
  },
  {
   "cell_type": "code",
   "execution_count": 16,
   "metadata": {
    "slideshow": {
     "slide_type": "fragment"
    }
   },
   "outputs": [
    {
     "data": {
      "text/plain": [
       "{'de-DE', 'en-US'}"
      ]
     },
     "execution_count": 16,
     "metadata": {},
     "output_type": "execute_result"
    }
   ],
   "source": [
    "Registry.supported_languages()"
   ]
  },
  {
   "cell_type": "code",
   "execution_count": 17,
   "metadata": {
    "scrolled": true,
    "slideshow": {
     "slide_type": "fragment"
    }
   },
   "outputs": [
    {
     "data": {
      "text/plain": [
       "'rendered (DE): foo'"
      ]
     },
     "execution_count": 17,
     "metadata": {},
     "output_type": "execute_result"
    }
   ],
   "source": [
    "Registry.get_language_instance(\"de-DE\").render(\"foo\")"
   ]
  },
  {
   "cell_type": "code",
   "execution_count": 18,
   "metadata": {
    "slideshow": {
     "slide_type": "fragment"
    }
   },
   "outputs": [
    {
     "data": {
      "text/plain": [
       "'rendered: foo'"
      ]
     },
     "execution_count": 18,
     "metadata": {},
     "output_type": "execute_result"
    }
   ],
   "source": [
    "Registry.get_language_instance(\"en-US\").render(\"foo\")"
   ]
  },
  {
   "cell_type": "code",
   "execution_count": 19,
   "metadata": {
    "slideshow": {
     "slide_type": "fragment"
    }
   },
   "outputs": [
    {
     "name": "stdout",
     "output_type": "stream",
     "text": [
      "from ..base import ExampleBase\r\n",
      "\r\n",
      "\r\n",
      "class Example_EN_US(ExampleBase, language=\"en-US\"):\r\n",
      "    pass\r\n"
     ]
    }
   ],
   "source": [
    "!cat example/languages/en/en_us.py"
   ]
  },
  {
   "cell_type": "code",
   "execution_count": 20,
   "metadata": {
    "slideshow": {
     "slide_type": "slide"
    }
   },
   "outputs": [
    {
     "name": "stdout",
     "output_type": "stream",
     "text": [
      "\u001b[1m============================= test session starts ==============================\u001b[0m\r\n",
      "platform linux -- Python 3.8.2, pytest-5.4.1, py-1.8.1, pluggy-0.13.1\r\n",
      "rootdir: /home/mfa/git/registry-metaclasses\r\n",
      "\u001b[1mcollecting ... \u001b[0m\u001b[1m\r",
      "collected 3 items                                                              \u001b[0m\r\n",
      "\r\n",
      "tests/test_registry.py \u001b[32m.\u001b[0m\u001b[32m.\u001b[0m\u001b[32m.\u001b[0m\u001b[32m                                               [100%]\u001b[0m\r\n",
      "\r\n",
      "\u001b[32m============================== \u001b[32m\u001b[1m3 passed\u001b[0m\u001b[32m in 0.02s\u001b[0m\u001b[32m ===============================\u001b[0m\r\n"
     ]
    }
   ],
   "source": [
    "!python -m pytest"
   ]
  },
  {
   "cell_type": "markdown",
   "metadata": {
    "slideshow": {
     "slide_type": "slide"
    }
   },
   "source": [
    "## Thanks!\n",
    "\n",
    "\n",
    "code will be released here: https://github.com/mfa/registry-metaclasses"
   ]
  },
  {
   "cell_type": "code",
   "execution_count": null,
   "metadata": {
    "slideshow": {
     "slide_type": "skip"
    }
   },
   "outputs": [],
   "source": []
  }
 ],
 "metadata": {
  "celltoolbar": "Slideshow",
  "kernelspec": {
   "display_name": "Python 3",
   "language": "python",
   "name": "python3"
  },
  "language_info": {
   "codemirror_mode": {
    "name": "ipython",
    "version": 3
   },
   "file_extension": ".py",
   "mimetype": "text/x-python",
   "name": "python",
   "nbconvert_exporter": "python",
   "pygments_lexer": "ipython3",
   "version": "3.8.2"
  }
 },
 "nbformat": 4,
 "nbformat_minor": 4
}
